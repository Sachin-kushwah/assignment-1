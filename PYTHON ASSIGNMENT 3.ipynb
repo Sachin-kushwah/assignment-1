{
 "cells": [
  {
   "cell_type": "code",
   "execution_count": null,
   "id": "b4063e41-d565-4c51-8359-78d8b59e9722",
   "metadata": {},
   "outputs": [],
   "source": [
    "#ANSWER 1:\n",
    "def keyword use for a built a function\n"
   ]
  },
  {
   "cell_type": "code",
   "execution_count": 1,
   "id": "da1d7afa-d616-4a9f-b670-0bcfb8649887",
   "metadata": {},
   "outputs": [],
   "source": [
    "l=[1,2,3,4,5,6,7,8,9,10,11,12,13,14,15,16,17,18,19,20,21,22,23,24,25]"
   ]
  },
  {
   "cell_type": "code",
   "execution_count": 3,
   "id": "1051f0c9-b7a7-4a0a-9dea-5c01711aab85",
   "metadata": {},
   "outputs": [
    {
     "data": {
      "text/plain": [
       "[1, 3, 5, 7, 9, 11, 13, 15, 17, 19, 21, 23, 25]"
      ]
     },
     "execution_count": 3,
     "metadata": {},
     "output_type": "execute_result"
    }
   ],
   "source": [
    "[i for i in l if i%2!=0]"
   ]
  },
  {
   "cell_type": "code",
   "execution_count": 5,
   "id": "a1308a86-6245-48e2-afe1-b2f1a8327e0d",
   "metadata": {},
   "outputs": [
    {
     "data": {
      "text/plain": [
       "'*args used for return tuple\\n**kwargs used for return dictionary'"
      ]
     },
     "execution_count": 5,
     "metadata": {},
     "output_type": "execute_result"
    }
   ],
   "source": [
    "# ANSWER 2:\n",
    "\"\"\"*args used for return tuple\n",
    "**kwargs used for return dictionary\"\"\"\n"
   ]
  },
  {
   "cell_type": "code",
   "execution_count": 6,
   "id": "e8d4e98d-cacc-4a90-bbf7-b907211e76a7",
   "metadata": {},
   "outputs": [],
   "source": [
    "def test(*args):\n",
    "    return args"
   ]
  },
  {
   "cell_type": "code",
   "execution_count": 7,
   "id": "06c9609f-6d78-495c-9d3a-c6c2d2d63c68",
   "metadata": {},
   "outputs": [
    {
     "data": {
      "text/plain": [
       "(2, 3, 4, 5, 65)"
      ]
     },
     "execution_count": 7,
     "metadata": {},
     "output_type": "execute_result"
    }
   ],
   "source": [
    "test(2,3,4,5,65)"
   ]
  },
  {
   "cell_type": "code",
   "execution_count": 11,
   "id": "451a3c88-425a-4fb4-bfa2-033c31e7bf0f",
   "metadata": {},
   "outputs": [],
   "source": [
    "def test(**kwargs):\n",
    "    return kwargs"
   ]
  },
  {
   "cell_type": "code",
   "execution_count": 12,
   "id": "136fe439-7b7a-43b0-9bc5-fae1b6f57c60",
   "metadata": {},
   "outputs": [
    {
     "data": {
      "text/plain": [
       "{'a': [1, 23, 4, 543], 'b': 'sachin', 'c': 23.45}"
      ]
     },
     "execution_count": 12,
     "metadata": {},
     "output_type": "execute_result"
    }
   ],
   "source": [
    "test(a=[1,23,4,543,],b=\"sachin\",c=23.45)"
   ]
  },
  {
   "cell_type": "code",
   "execution_count": 13,
   "id": "8ce3be3e-daed-49c1-9421-00a3b1221fc5",
   "metadata": {},
   "outputs": [
    {
     "data": {
      "text/plain": [
       "' ANSWER 3:'"
      ]
     },
     "execution_count": 13,
     "metadata": {},
     "output_type": "execute_result"
    }
   ],
   "source": [
    "\"\"\" ANSWER 3:\"\"\"\n"
   ]
  },
  {
   "cell_type": "code",
   "execution_count": 15,
   "id": "1084c2f2-6de7-4743-8bb5-fe5809beb3fd",
   "metadata": {},
   "outputs": [],
   "source": [
    "\"\"\"An iterator  is an object that contain a constable number of values\"\"\"\n",
    "l=[2,4,6,8,10,12,14,16,18,20]"
   ]
  },
  {
   "cell_type": "code",
   "execution_count": 27,
   "id": "299f7549-fae1-45bc-9225-8a4b2f263329",
   "metadata": {},
   "outputs": [
    {
     "name": "stdout",
     "output_type": "stream",
     "text": [
      "2\n",
      "4\n",
      "6\n",
      "8\n",
      "10\n"
     ]
    }
   ],
   "source": [
    "\n",
    "for i in l:\n",
    "    print(i)\n",
    "    if i==10:\n",
    "        break\n"
   ]
  },
  {
   "cell_type": "code",
   "execution_count": 29,
   "id": "012674c2-8677-4fcc-a00b-2a7b4a04b3b3",
   "metadata": {},
   "outputs": [
    {
     "ename": "SyntaxError",
     "evalue": "unterminated triple-quoted string literal (detected at line 2) (1458329412.py, line 2)",
     "output_type": "error",
     "traceback": [
      "\u001b[0;36m  Cell \u001b[0;32mIn[29], line 2\u001b[0;36m\u001b[0m\n\u001b[0;31m    A function that returns an iterator that produces a sequence of vallues when iterrated over\"\"\"\u001b[0m\n\u001b[0m                                                                                               ^\u001b[0m\n\u001b[0;31mSyntaxError\u001b[0m\u001b[0;31m:\u001b[0m unterminated triple-quoted string literal (detected at line 2)\n"
     ]
    }
   ],
   "source": [
    "\"\"ANSWER 4:\n",
    "A function that returns an iterator that produces a sequence of vallues when iterrated over\"\"\"\n"
   ]
  },
  {
   "cell_type": "code",
   "execution_count": 32,
   "id": "339735da-21f1-47be-bffe-e2bb3d9a24c4",
   "metadata": {},
   "outputs": [],
   "source": [
    "def test_fib(n):\n",
    "    a,b=0,1\n",
    "    for i in range (n):\n",
    "        yield a\n",
    "        a,b=b,a+b"
   ]
  },
  {
   "cell_type": "code",
   "execution_count": 33,
   "id": "21d720f8-7aa5-4433-bbb8-c80b41ec2f8b",
   "metadata": {},
   "outputs": [
    {
     "name": "stdout",
     "output_type": "stream",
     "text": [
      "0\n",
      "1\n",
      "1\n",
      "2\n",
      "3\n",
      "5\n",
      "8\n",
      "13\n",
      "21\n",
      "34\n"
     ]
    }
   ],
   "source": [
    "for i in test_fib(10):\n",
    "    print(i)"
   ]
  },
  {
   "cell_type": "code",
   "execution_count": 36,
   "id": "b0becaa1-a843-4b96-a5f8-1f8698b523b3",
   "metadata": {},
   "outputs": [
    {
     "data": {
      "text/plain": [
       "'ANSWER 6:'"
      ]
     },
     "execution_count": 36,
     "metadata": {},
     "output_type": "execute_result"
    }
   ],
   "source": [
    "\"\"\"ANSWER 6:\"\"\""
   ]
  },
  {
   "cell_type": "code",
   "execution_count": 39,
   "id": "23f0ca3d-ad77-4cda-ade3-8687811c9be2",
   "metadata": {},
   "outputs": [],
   "source": [
    " def test_fib(n) :\n",
    "        a,b=0,1\n",
    "        for i in range(n):\n",
    "            yield a\n",
    "            a,b=b,a+b"
   ]
  },
  {
   "cell_type": "code",
   "execution_count": 40,
   "id": "0e7b78bf-6a41-4590-ac56-424395d1f4fc",
   "metadata": {},
   "outputs": [
    {
     "name": "stdout",
     "output_type": "stream",
     "text": [
      "0\n",
      "1\n",
      "1\n",
      "2\n",
      "3\n",
      "5\n",
      "8\n",
      "13\n",
      "21\n",
      "34\n"
     ]
    }
   ],
   "source": [
    "for i in test_fib(10):\n",
    "    print(i)"
   ]
  },
  {
   "cell_type": "code",
   "execution_count": 41,
   "id": "5c3116b2-0621-4976-896d-84b0c5f4a124",
   "metadata": {},
   "outputs": [
    {
     "data": {
      "text/plain": [
       "'ANSWER 7:'"
      ]
     },
     "execution_count": 41,
     "metadata": {},
     "output_type": "execute_result"
    }
   ],
   "source": [
    "\"\"\"ANSWER 7:\"\"\""
   ]
  },
  {
   "cell_type": "code",
   "execution_count": 44,
   "id": "7828365d-055e-49da-9b46-872e38f73eb6",
   "metadata": {},
   "outputs": [],
   "source": [
    "s=\"pwskills\""
   ]
  },
  {
   "cell_type": "code",
   "execution_count": 54,
   "id": "ee5c72d3-0f0f-4fb5-b205-04572ebc76c4",
   "metadata": {},
   "outputs": [
    {
     "data": {
      "text/plain": [
       "['P', 'W', 'S', 'K', 'I', 'L', 'L', 'S']"
      ]
     },
     "execution_count": 54,
     "metadata": {},
     "output_type": "execute_result"
    }
   ],
   "source": [
    "[s for s in  s.upper()]"
   ]
  },
  {
   "cell_type": "code",
   "execution_count": 55,
   "id": "13b7b98f-2ca6-4012-8e04-513a1ce02ed4",
   "metadata": {},
   "outputs": [
    {
     "data": {
      "text/plain": [
       "' ANSWER8 8:'"
      ]
     },
     "execution_count": 55,
     "metadata": {},
     "output_type": "execute_result"
    }
   ],
   "source": [
    "\"\"\" ANSWER8 8:\"\"\"\n"
   ]
  },
  {
   "cell_type": "code",
   "execution_count": 57,
   "id": "7968df68-7deb-451a-9be4-de3e196e44d3",
   "metadata": {},
   "outputs": [
    {
     "name": "stdin",
     "output_type": "stream",
     "text": [
      "enter number 10\n"
     ]
    },
    {
     "name": "stdout",
     "output_type": "stream",
     "text": [
      "the number is not a palindrome\n"
     ]
    }
   ],
   "source": [
    "n=int(input(\"enter number\"))\n",
    "temp=n\n",
    "rev=0\n",
    "while(n>0):\n",
    "    dig=n%10\n",
    "    rev=rev*10+dig\n",
    "    n=n//10\n",
    "if(temp==rev):\n",
    "    print(\"the number is a palindrome\")\n",
    "else:\n",
    "    print(\"the number is not a palindrome\")"
   ]
  },
  {
   "cell_type": "code",
   "execution_count": 5,
   "id": "c036c221-9b73-46a0-b64a-d51845d3ae68",
   "metadata": {},
   "outputs": [],
   "source": [
    "\"\"\"ANSWER 9:\"\"\"\n",
    "l=[1,2,3,4,5,6,7,8,9,10,11,12,13,14,15,16,17,18,19,20,21,22,23,24,25,26,27,28,29,30,31,32,33,34,35,36,37,38,39,40,41,42,43,44,45,46,47,48,49,50,51,52,53,54,55,56,57,58,59,60,61,62,63,64,65,66,67,68,69,70,71,72,73,74,75,76,77,78,79,80,81,82,83,84,85,86,87,89,90,91,92,93,94,95,96,97,98,99,100]"
   ]
  },
  {
   "cell_type": "code",
   "execution_count": 6,
   "id": "07c635a4-f1cb-4ca0-bf25-5e2def201e77",
   "metadata": {},
   "outputs": [
    {
     "ename": "SyntaxError",
     "evalue": "invalid syntax (92570142.py, line 1)",
     "output_type": "error",
     "traceback": [
      "\u001b[0;36m  Cell \u001b[0;32mIn[6], line 1\u001b[0;36m\u001b[0m\n\u001b[0;31m    [i for in l if i%2!=0]\u001b[0m\n\u001b[0m           ^\u001b[0m\n\u001b[0;31mSyntaxError\u001b[0m\u001b[0;31m:\u001b[0m invalid syntax\n"
     ]
    }
   ],
   "source": [
    "[i for in l if i%2!=0]"
   ]
  },
  {
   "cell_type": "code",
   "execution_count": null,
   "id": "c3d0bddd-6a90-497e-9430-c0662280d782",
   "metadata": {},
   "outputs": [],
   "source": []
  }
 ],
 "metadata": {
  "kernelspec": {
   "display_name": "Python 3 (ipykernel)",
   "language": "python",
   "name": "python3"
  },
  "language_info": {
   "codemirror_mode": {
    "name": "ipython",
    "version": 3
   },
   "file_extension": ".py",
   "mimetype": "text/x-python",
   "name": "python",
   "nbconvert_exporter": "python",
   "pygments_lexer": "ipython3",
   "version": "3.10.8"
  }
 },
 "nbformat": 4,
 "nbformat_minor": 5
}
