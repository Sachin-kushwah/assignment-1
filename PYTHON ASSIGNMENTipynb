{
 "cells": [
  {
   "cell_type": "code",
   "execution_count": 1,
   "id": "96741076-7ff9-493d-bfa2-81d92aca904a",
   "metadata": {},
   "outputs": [],
   "source": [
    "#ASSIGNMENT FOR OBJECT ORIENTED PROGRAMING SYSTEM\n",
    "#ANSWER 1:\n",
    "class pwskills:\n",
    "    def welcome_msg(self):\n",
    "        print(\"welcome to pwskills\")"
   ]
  },
  {
   "cell_type": "code",
   "execution_count": 2,
   "id": "1aee5b96-3d13-4877-8663-3798fe20686a",
   "metadata": {},
   "outputs": [],
   "source": [
    "sachin=pwskills()"
   ]
  },
  {
   "cell_type": "code",
   "execution_count": 3,
   "id": "1acb184c-a2cf-4581-b58f-d642c93c542f",
   "metadata": {},
   "outputs": [
    {
     "name": "stdout",
     "output_type": "stream",
     "text": [
      "welcome to pwskills\n"
     ]
    }
   ],
   "source": [
    "sachin.welcome_msg()"
   ]
  },
  {
   "cell_type": "code",
   "execution_count": 4,
   "id": "090aa675-aa37-41d0-aa47-7a7aa6270c7b",
   "metadata": {},
   "outputs": [],
   "source": [
    "class pwskills1:\n",
    "    def __init__(sach,student_name,email_id,student_roll):\n",
    "        sach.student_name=student_name\n",
    "        sach.email_id=email_id\n",
    "        sach.student_roll=student_roll\n",
    "    def return_student_detsils(sach):\n",
    "        return sach.email_id,sach.student_roll,sach.student_name"
   ]
  },
  {
   "cell_type": "code",
   "execution_count": 6,
   "id": "aafc18e5-8a04-49a2-a14c-4920b0147537",
   "metadata": {},
   "outputs": [],
   "source": [
    "sachin=pwskills1(\"nitish kumar\",\"sachin@gmail.com\",2325623565)"
   ]
  },
  {
   "cell_type": "code",
   "execution_count": 7,
   "id": "6792e89b-ae92-4b96-8fd1-eda9a5d2d11a",
   "metadata": {},
   "outputs": [
    {
     "data": {
      "text/plain": [
       "('sachin@gmail.com', 2325623565, 'nitish kumar')"
      ]
     },
     "execution_count": 7,
     "metadata": {},
     "output_type": "execute_result"
    }
   ],
   "source": [
    "sachin.return_student_detsils()"
   ]
  },
  {
   "cell_type": "code",
   "execution_count": 8,
   "id": "d64d2f70-19bd-497e-95d4-05650c1a681e",
   "metadata": {},
   "outputs": [],
   "source": [
    "#GIVEN UPWORD EXAMPLE FOR CLASS AND OBJECT"
   ]
  },
  {
   "cell_type": "code",
   "execution_count": 9,
   "id": "80eb3b23-5bcb-4647-ada6-5ad7768cc674",
   "metadata": {},
   "outputs": [
    {
     "ename": "SyntaxError",
     "evalue": "invalid decimal literal (1073104124.py, line 2)",
     "output_type": "error",
     "traceback": [
      "\u001b[0;36m  Cell \u001b[0;32mIn[9], line 2\u001b[0;36m\u001b[0m\n\u001b[0;31m    1.__\u001b[0m\n\u001b[0m     ^\u001b[0m\n\u001b[0;31mSyntaxError\u001b[0m\u001b[0;31m:\u001b[0m invalid decimal literal\n"
     ]
    }
   ],
   "source": [
    "#ANSWER 2:\n",
    "1.__\n",
    "2.init\n",
    "3.self(this is variables)\n",
    "4.class\n"
   ]
  },
  {
   "cell_type": "code",
   "execution_count": null,
   "id": "88e06ef0-ba7b-4868-8fc2-87a87b8d5b2c",
   "metadata": {},
   "outputs": [],
   "source": []
  },
  {
   "cell_type": "code",
   "execution_count": 10,
   "id": "19518768-94f1-4947-96f4-93f53a457609",
   "metadata": {},
   "outputs": [],
   "source": [
    "#ANSWER 3:\n",
    "class pwskills1:\n",
    "    def __init__(sach,student_name,email_id,student_roll):\n",
    "        sach.student_name=student_name\n",
    "        sach.email_id=email_id\n",
    "        sach.student_roll=student_roll\n",
    "    def return_student_detsils(sach):\n",
    "        return sach.email_id,sach.student_roll,sach.student_name"
   ]
  },
  {
   "cell_type": "code",
   "execution_count": 11,
   "id": "b3c33131-32bf-48f7-b232-ac082e4a13c2",
   "metadata": {},
   "outputs": [
    {
     "ename": "SyntaxError",
     "evalue": "invalid syntax (4068086036.py, line 1)",
     "output_type": "error",
     "traceback": [
      "\u001b[0;36m  Cell \u001b[0;32mIn[11], line 1\u001b[0;36m\u001b[0m\n\u001b[0;31m    becuse self is variables (we can use any string)\u001b[0m\n\u001b[0m           ^\u001b[0m\n\u001b[0;31mSyntaxError\u001b[0m\u001b[0;31m:\u001b[0m invalid syntax\n"
     ]
    }
   ],
   "source": [
    "#ANSWER4:\n",
    "becuse self is variables (we can use any string)"
   ]
  },
  {
   "cell_type": "code",
   "execution_count": null,
   "id": "1aa322b9-d9ba-4902-bb5c-ddc96aa76139",
   "metadata": {},
   "outputs": [],
   "source": [
    "#ANSWER 5:\n",
    "Inheritance is allow us to define a class that inherits all the methods and properties from another class.\n"
   ]
  }
 ],
 "metadata": {
  "kernelspec": {
   "display_name": "Python 3 (ipykernel)",
   "language": "python",
   "name": "python3"
  },
  "language_info": {
   "codemirror_mode": {
    "name": "ipython",
    "version": 3
   },
   "file_extension": ".py",
   "mimetype": "text/x-python",
   "name": "python",
   "nbconvert_exporter": "python",
   "pygments_lexer": "ipython3",
   "version": "3.10.8"
  }
 },
 "nbformat": 4,
 "nbformat_minor": 5
}
