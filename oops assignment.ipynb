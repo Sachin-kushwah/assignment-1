{
 "cells": [
  {
   "cell_type": "code",
   "execution_count": 2,
   "id": "99d70d56-0b82-4a32-873f-cc862a2ba3e4",
   "metadata": {},
   "outputs": [
    {
     "data": {
      "text/plain": [
       "'ANSWER 1:'"
      ]
     },
     "execution_count": 2,
     "metadata": {},
     "output_type": "execute_result"
    }
   ],
   "source": [
    "\"\"\"ANSWER 1:\"\"\"\n",
    "#abstracton is used to hide and bind code"
   ]
  },
  {
   "cell_type": "code",
   "execution_count": 5,
   "id": "823a051e-7bd1-430b-8a8e-fd99cb4fb3e5",
   "metadata": {},
   "outputs": [
    {
     "data": {
      "text/plain": [
       "'abstraction is use to hide and bind the code'"
      ]
     },
     "execution_count": 5,
     "metadata": {},
     "output_type": "execute_result"
    }
   ],
   "source": [
    "\"\"\"abstraction is use to hide and bind the code\"\"\""
   ]
  },
  {
   "cell_type": "raw",
   "id": "e93a756b-7009-4687-a9fa-0c5ddcacbe95",
   "metadata": {},
   "source": []
  },
  {
   "cell_type": "code",
   "execution_count": 4,
   "id": "00775d44-046e-4590-b206-8697d48eff51",
   "metadata": {},
   "outputs": [],
   "source": [
    "import abc\n",
    "class pwskills:\n",
    "    @abc.abstractmethod\n",
    "    def student_details(self):\n",
    "        pass\n",
    "    @abc.abstractmethod\n",
    "    def student_assignment(self):\n",
    "        pass"
   ]
  },
  {
   "cell_type": "code",
   "execution_count": 8,
   "id": "0815358d-fa55-42a2-beb6-3f0dfd9096e0",
   "metadata": {},
   "outputs": [],
   "source": [
    "class student_details(pwskills):\n",
    "    def student_details(self):\n",
    "        return \"this is meth for tacking student detsils\"\n",
    "    def student_assignment(self):\n",
    "        return \"this is meth for assign student assignment for a particular student\""
   ]
  },
  {
   "cell_type": "code",
   "execution_count": 9,
   "id": "c6a3096c-50df-4fed-bdd0-bbc659449bdc",
   "metadata": {},
   "outputs": [],
   "source": [
    "class data_science_masters(pwskills):\n",
    "    def student_details(self):\n",
    "        return \"this will return a student details for data science masters\"\n",
    "    def student_assignment(self):\n",
    "        return \"this will return you student assignment fot data science masters\""
   ]
  },
  {
   "cell_type": "code",
   "execution_count": 10,
   "id": "8d93d98b-94c4-4b01-9a44-d01077c50fbb",
   "metadata": {},
   "outputs": [],
   "source": [
    "dsm=data_science_masters()"
   ]
  },
  {
   "cell_type": "code",
   "execution_count": 12,
   "id": "585ca89b-3ef5-4b5f-8bb7-e8e0affb4054",
   "metadata": {},
   "outputs": [
    {
     "data": {
      "text/plain": [
       "'this will return a student details for data science masters'"
      ]
     },
     "execution_count": 12,
     "metadata": {},
     "output_type": "execute_result"
    }
   ],
   "source": [
    "dsm.student_details()"
   ]
  },
  {
   "cell_type": "code",
   "execution_count": 13,
   "id": "eb45dc25-dd28-4e5b-a98f-da233654bde0",
   "metadata": {},
   "outputs": [],
   "source": [
    "sd=student_details()"
   ]
  },
  {
   "cell_type": "code",
   "execution_count": 14,
   "id": "0c468e75-57bd-43ed-a72a-fe8e557f626b",
   "metadata": {},
   "outputs": [
    {
     "data": {
      "text/plain": [
       "'this is meth for assign student assignment for a particular student'"
      ]
     },
     "execution_count": 14,
     "metadata": {},
     "output_type": "execute_result"
    }
   ],
   "source": [
    "sd.student_assignment()"
   ]
  },
  {
   "cell_type": "code",
   "execution_count": 1,
   "id": "165140ff-d00c-4a1c-a2a8-c5098cf60936",
   "metadata": {},
   "outputs": [
    {
     "data": {
      "text/plain": [
       "'ANSWER 2:'"
      ]
     },
     "execution_count": 1,
     "metadata": {},
     "output_type": "execute_result"
    }
   ],
   "source": [
    "\"\"\"ANSWER 2:\"\"\"\n"
   ]
  },
  {
   "cell_type": "code",
   "execution_count": 5,
   "id": "18ed464a-7b47-4d37-906d-730051056c0f",
   "metadata": {},
   "outputs": [
    {
     "ename": "SyntaxError",
     "evalue": "invalid syntax (2810116964.py, line 1)",
     "output_type": "error",
     "traceback": [
      "\u001b[0;36m  Cell \u001b[0;32mIn[5], line 1\u001b[0;36m\u001b[0m\n\u001b[0;31m    abstraction is hinding the details and implementation of the code\u001b[0m\n\u001b[0m                           ^\u001b[0m\n\u001b[0;31mSyntaxError\u001b[0m\u001b[0;31m:\u001b[0m invalid syntax\n"
     ]
    }
   ],
   "source": [
    "abstraction is hinding the details and implementation of the code\n",
    "encapsulation is hinding the data and controring the visibility of the code"
   ]
  },
  {
   "cell_type": "code",
   "execution_count": 6,
   "id": "4150eb90-1c8d-43bf-b73d-44bc2bc327c5",
   "metadata": {},
   "outputs": [],
   "source": [
    "#example of abstraction\n",
    "import abc\n",
    "class pwskills:\n",
    "    @abc.abstractmethod\n",
    "    def student_details(self):\n",
    "        pass\n",
    "    @abc.abstractmethod\n",
    "    def student_assignment(self):\n",
    "        pass\n",
    "    @abc.abstractmethod\n",
    "    def student_marks(self):\n",
    "        pass"
   ]
  },
  {
   "cell_type": "code",
   "execution_count": 7,
   "id": "630f6d4e-7da7-4b5d-8332-ef83121f2b07",
   "metadata": {},
   "outputs": [],
   "source": [
    "#example of encapsulation\n",
    "class car:\n",
    "    def __init__(self,year,make,model,speed):\n",
    "        self.__year=year\n",
    "        self.__make=make\n",
    "        self.__model=model\n",
    "        self.__speed=0"
   ]
  },
  {
   "cell_type": "code",
   "execution_count": 8,
   "id": "28a9ebf0-7e94-4651-b9e4-eef453a8563a",
   "metadata": {},
   "outputs": [
    {
     "data": {
      "text/plain": [
       "'ANSWER 3:'"
      ]
     },
     "execution_count": 8,
     "metadata": {},
     "output_type": "execute_result"
    }
   ],
   "source": [
    "\"\"\"ANSWER 3:\"\"\"\n"
   ]
  },
  {
   "cell_type": "code",
   "execution_count": 9,
   "id": "66d46494-91af-441a-b87b-fa0f612275cd",
   "metadata": {},
   "outputs": [
    {
     "data": {
      "text/plain": [
       "'this module provided the infrastructure for defining abstract base class (ABCs) \\nin python as outlined in PEd 3119: see the PEP for why this was added to python (see also PEP 3141 and the number \\nmodule regarding a type hierchy for number based on Abc'"
      ]
     },
     "execution_count": 9,
     "metadata": {},
     "output_type": "execute_result"
    }
   ],
   "source": [
    "\"\"\"this module provided the infrastructure for defining abstract base class (ABCs) \n",
    "in python as outlined in PEd 3119: see the PEP for why this was added to python (see also PEP 3141 and the number \n",
    "module regarding a type hierchy for number based on Abc\"\"\"\n",
    "\n"
   ]
  },
  {
   "cell_type": "code",
   "execution_count": 10,
   "id": "aef70393-0ce3-4925-a0fc-7d5035b9f853",
   "metadata": {},
   "outputs": [
    {
     "data": {
      "text/plain": [
       "'ANSWER 4:'"
      ]
     },
     "execution_count": 10,
     "metadata": {},
     "output_type": "execute_result"
    }
   ],
   "source": [
    "\"\"\"ANSWER 4:\"\"\"\n"
   ]
  },
  {
   "cell_type": "code",
   "execution_count": 11,
   "id": "10765782-860c-4dad-bc4d-78931530c692",
   "metadata": {},
   "outputs": [
    {
     "data": {
      "text/plain": [
       "'in python abstraction can be achieved \"by using abstract class and methods in our programs'"
      ]
     },
     "execution_count": 11,
     "metadata": {},
     "output_type": "execute_result"
    }
   ],
   "source": [
    "\"\"\"in python abstraction can be achieved \"by using abstract class and methods in our programs\"\"\""
   ]
  },
  {
   "cell_type": "code",
   "execution_count": 12,
   "id": "cce7cc78-bebd-45fb-b886-fee167038fb3",
   "metadata": {},
   "outputs": [
    {
     "data": {
      "text/plain": [
       "'ANSWER 5:'"
      ]
     },
     "execution_count": 12,
     "metadata": {},
     "output_type": "execute_result"
    }
   ],
   "source": [
    "\"\"\"ANSWER 5:\"\"\"\n"
   ]
  },
  {
   "cell_type": "code",
   "execution_count": null,
   "id": "cab6e9cc-2ebe-402c-b51d-2d5bb6857f94",
   "metadata": {},
   "outputs": [],
   "source": [
    "\"\"\"WE can't creat an abstract class in python directly. however python does provide a module that allows\n"
   ]
  }
 ],
 "metadata": {
  "kernelspec": {
   "display_name": "Python 3 (ipykernel)",
   "language": "python",
   "name": "python3"
  },
  "language_info": {
   "codemirror_mode": {
    "name": "ipython",
    "version": 3
   },
   "file_extension": ".py",
   "mimetype": "text/x-python",
   "name": "python",
   "nbconvert_exporter": "python",
   "pygments_lexer": "ipython3",
   "version": "3.10.8"
  }
 },
 "nbformat": 4,
 "nbformat_minor": 5
}
