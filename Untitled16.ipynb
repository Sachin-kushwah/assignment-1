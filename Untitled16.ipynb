{
 "cells": [
  {
   "cell_type": "code",
   "execution_count": 1,
   "id": "36110954-5a7b-4682-81ab-dbc4b223cbe4",
   "metadata": {},
   "outputs": [],
   "source": [
    " #ANSWER 1:\n",
    "    class vehicle:\n",
    "    def __init__(self,name_of_vehicle,max_speed,average_of_vehicle):\n",
    "        self.name_of_vehicle=name_of_vehicle\n",
    "        self.max_speed=max_speed\n",
    "        self.average_of_vehicle=average_of_vehicle"
   ]
  },
  {
   "cell_type": "code",
   "execution_count": 2,
   "id": "ef9c7a12-47f3-4cc3-b2e7-d695a8392801",
   "metadata": {},
   "outputs": [],
   "source": [
    "car=vehicle(\"mahindra thar\",160,40)"
   ]
  },
  {
   "cell_type": "code",
   "execution_count": 4,
   "id": "43e07fba-5005-4753-bfc3-d868f882b22e",
   "metadata": {},
   "outputs": [
    {
     "data": {
      "text/plain": [
       "160"
      ]
     },
     "execution_count": 4,
     "metadata": {},
     "output_type": "execute_result"
    }
   ],
   "source": [
    "car.max_speed"
   ]
  },
  {
   "cell_type": "code",
   "execution_count": 5,
   "id": "26d5d9da-6668-49f2-b596-7d278a15673f",
   "metadata": {},
   "outputs": [
    {
     "data": {
      "text/plain": [
       "'mahindra thar'"
      ]
     },
     "execution_count": 5,
     "metadata": {},
     "output_type": "execute_result"
    }
   ],
   "source": [
    "car.name_of_vehicle"
   ]
  },
  {
   "cell_type": "code",
   "execution_count": 7,
   "id": "2ec774bf-bdaa-4006-915c-f7389f2f8aba",
   "metadata": {},
   "outputs": [],
   "source": [
    "#ANSWER 2:\n",
    "class vehicle:\n",
    "    def __init__(self,seating_capacity,name_of_vehicle):\n",
    "        self.seating_capacity=seating_capacity\n",
    "        self.name_vehicle=name_of_vehicle\n",
    "class child_vehicle(vehicle):\n",
    "    pass\n",
    "    \n",
    "        "
   ]
  },
  {
   "cell_type": "code",
   "execution_count": 9,
   "id": "f60a370a-1924-4438-bfae-f77881b90eef",
   "metadata": {},
   "outputs": [],
   "source": [
    "obj_child_vehicle=child_vehicle(\"6 gentle man\",\"mahindra thar\")"
   ]
  },
  {
   "cell_type": "code",
   "execution_count": 10,
   "id": "0db6890a-4a26-41b1-a809-7b8674fc46c4",
   "metadata": {},
   "outputs": [
    {
     "data": {
      "text/plain": [
       "'mahindra thar'"
      ]
     },
     "execution_count": 10,
     "metadata": {},
     "output_type": "execute_result"
    }
   ],
   "source": [
    "obj_child_vehicle.name_vehicle"
   ]
  },
  {
   "cell_type": "code",
   "execution_count": 11,
   "id": "a2160558-78d7-4129-b4e0-68572a2ab14b",
   "metadata": {},
   "outputs": [
    {
     "data": {
      "text/plain": [
       "'6 gentle man'"
      ]
     },
     "execution_count": 11,
     "metadata": {},
     "output_type": "execute_result"
    }
   ],
   "source": [
    "obj_child_vehicle.seating_capacity"
   ]
  },
  {
   "cell_type": "code",
   "execution_count": 13,
   "id": "8f44e0eb-bb83-4c85-97aa-dc47704828dc",
   "metadata": {},
   "outputs": [],
   "source": [
    "#thre is happning inherit vehicle_class"
   ]
  },
  {
   "cell_type": "code",
   "execution_count": 14,
   "id": "bead663e-26d4-4fee-b183-f5cd96e9c975",
   "metadata": {},
   "outputs": [
    {
     "data": {
      "text/plain": [
       "'A process where the child class or object inherit yte method and attributes from one or more parent class'"
      ]
     },
     "execution_count": 14,
     "metadata": {},
     "output_type": "execute_result"
    }
   ],
   "source": [
    "#ANSWER 3:\n",
    "\"\"\"A process where the child class or object inherit yte method and attributes from one or more parent class\"\"\""
   ]
  },
  {
   "cell_type": "code",
   "execution_count": 16,
   "id": "a5e18445-4d11-4307-8027-2285c7253a50",
   "metadata": {},
   "outputs": [],
   "source": [
    "class class1:\n",
    "    def test_class1(self):\n",
    "        return \"this is my method for class first\"\n",
    "class class2:\n",
    "    def test_class2(self):\n",
    "        return \"this is my method for class second\"\n",
    "class class3(class1,class2):\n",
    "    pass"
   ]
  },
  {
   "cell_type": "code",
   "execution_count": 17,
   "id": "1e057692-b6c8-451f-a906-b802208b1425",
   "metadata": {},
   "outputs": [],
   "source": [
    "obj_class3=class3()"
   ]
  },
  {
   "cell_type": "code",
   "execution_count": 19,
   "id": "6b4a626c-f626-430e-8dd2-29d740e56f12",
   "metadata": {},
   "outputs": [
    {
     "data": {
      "text/plain": [
       "'this is my method for class first'"
      ]
     },
     "execution_count": 19,
     "metadata": {},
     "output_type": "execute_result"
    }
   ],
   "source": [
    "obj_class3.test_class1()"
   ]
  },
  {
   "cell_type": "code",
   "execution_count": 20,
   "id": "92db56e5-2949-498d-97e1-41d90f7c0a9a",
   "metadata": {},
   "outputs": [
    {
     "data": {
      "text/plain": [
       "<bound method class2.test_class2 of <__main__.class3 object at 0x7fe5047afbb0>>"
      ]
     },
     "execution_count": 20,
     "metadata": {},
     "output_type": "execute_result"
    }
   ],
   "source": [
    "obj_class3.test_class2"
   ]
  },
  {
   "cell_type": "code",
   "execution_count": 28,
   "id": "166d7f0f-2f8a-497b-a6f0-3058525d9332",
   "metadata": {},
   "outputs": [],
   "source": [
    "#ANSWER 4:\n",
    "\"\"\"GETTER a method that allows you to access an attribute in the given class\n",
    "SETTER a setter that allows you to set or mutate the vlaue of an attribute in a class\"\"\"\n",
    "\n",
    "class pwskills:\n",
    "    def __init__(self,course_price,course_name):\n",
    "        self.__course_price=course_price\n",
    "        self.course_name=course_name\n",
    "    @property\n",
    "    def course_price_access(self):\n",
    "        return self.__course_price\n",
    "    @course_price_access.setter\n",
    "    def course_price_set(self,price):\n",
    "        if price<=3500:\n",
    "            pass\n",
    "        else:\n",
    "            self.__course_price=price\n",
    "\n",
    "\n"
   ]
  },
  {
   "cell_type": "code",
   "execution_count": 29,
   "id": "08e44bc3-c766-4b9e-8da8-f5605fa4928e",
   "metadata": {},
   "outputs": [],
   "source": [
    "pw=pwskills(3500,\"data science masters\")"
   ]
  },
  {
   "cell_type": "code",
   "execution_count": 31,
   "id": "89ac7cad-eedc-4579-80db-c2091617fae8",
   "metadata": {},
   "outputs": [
    {
     "data": {
      "text/plain": [
       "3500"
      ]
     },
     "execution_count": 31,
     "metadata": {},
     "output_type": "execute_result"
    }
   ],
   "source": [
    "pw.course_price_access"
   ]
  },
  {
   "cell_type": "code",
   "execution_count": 32,
   "id": "af9bdc24-74c1-40f1-83f3-1bea5cd6aa63",
   "metadata": {},
   "outputs": [],
   "source": [
    "pw.course_price_set=4500"
   ]
  },
  {
   "cell_type": "code",
   "execution_count": 33,
   "id": "3d428772-e2bb-4c3d-b551-bc026c76e49d",
   "metadata": {},
   "outputs": [
    {
     "data": {
      "text/plain": [
       "4500"
      ]
     },
     "execution_count": 33,
     "metadata": {},
     "output_type": "execute_result"
    }
   ],
   "source": [
    "pw.course_price_access"
   ]
  },
  {
   "cell_type": "code",
   "execution_count": 34,
   "id": "d365d3ef-296e-46c3-a680-32b6b3de28d9",
   "metadata": {},
   "outputs": [],
   "source": [
    "#ANSWER 5:\n",
    "\"\"\" where the subclass or child class can provided the program with sfecific characterstic or a spesific \n",
    "implementation process of dat provided that are already defined in the parent class or super class\"\"\"\n",
    "\n",
    "class parent():\n",
    "    def __init__(self):\n",
    "        self.value=\"inside parent\"\n",
    "    def show(self):\n",
    "        prin(self.value)\n",
    "class child(parent):\n",
    "    def __init__(self):\n",
    "        self.value=\"inside child\"\n",
    "    def show (self):\n",
    "        print(slef.value)"
   ]
  },
  {
   "cell_type": "code",
   "execution_count": 35,
   "id": "24a41a56-040a-48cc-872a-d14652afb346",
   "metadata": {},
   "outputs": [],
   "source": [
    "obj1=parent()"
   ]
  },
  {
   "cell_type": "code",
   "execution_count": 36,
   "id": "bfa5a294-bb12-4fdf-a419-2da8e77b9aad",
   "metadata": {},
   "outputs": [],
   "source": [
    "obj2=child()"
   ]
  },
  {
   "cell_type": "code",
   "execution_count": 37,
   "id": "c1da9bb7-fedc-48e1-9584-cd8e48e251eb",
   "metadata": {},
   "outputs": [
    {
     "data": {
      "text/plain": [
       "<bound method parent.show of <__main__.parent object at 0x7fe50c2286a0>>"
      ]
     },
     "execution_count": 37,
     "metadata": {},
     "output_type": "execute_result"
    }
   ],
   "source": [
    "obj1.show"
   ]
  },
  {
   "cell_type": "code",
   "execution_count": 38,
   "id": "2808cb30-d49d-4612-9547-57626fb72724",
   "metadata": {},
   "outputs": [
    {
     "data": {
      "text/plain": [
       "'inside parent'"
      ]
     },
     "execution_count": 38,
     "metadata": {},
     "output_type": "execute_result"
    }
   ],
   "source": [
    "obj1.value"
   ]
  },
  {
   "cell_type": "code",
   "execution_count": null,
   "id": "433b942d-8222-4bbd-b26e-65471ed3c1d9",
   "metadata": {},
   "outputs": [],
   "source": []
  }
 ],
 "metadata": {
  "kernelspec": {
   "display_name": "Python 3 (ipykernel)",
   "language": "python",
   "name": "python3"
  },
  "language_info": {
   "codemirror_mode": {
    "name": "ipython",
    "version": 3
   },
   "file_extension": ".py",
   "mimetype": "text/x-python",
   "name": "python",
   "nbconvert_exporter": "python",
   "pygments_lexer": "ipython3",
   "version": "3.10.8"
  }
 },
 "nbformat": 4,
 "nbformat_minor": 5
}
